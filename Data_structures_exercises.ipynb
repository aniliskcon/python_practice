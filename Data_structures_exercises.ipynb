{
 "cells": [
  {
   "cell_type": "code",
   "execution_count": 8,
   "metadata": {},
   "outputs": [
    {
     "name": "stdout",
     "output_type": "stream",
     "text": [
      "[5, 6, 7, 8, 8, 9, 1, 5, 6, 7, 8, 1]\n",
      "3\n",
      "5.916666666666667\n",
      "6.0\n",
      "{1, 5, 6, 7, 8, 9}\n",
      "(1, 5, 6, 7, 8, 9)\n"
     ]
    }
   ],
   "source": [
    "#Data Structures Task1: List\n",
    "\n",
    "#Create an empty list\n",
    "#Concatenate with [5,6,7,8]\n",
    "#add 8,9,1,5,6,7,8,1 elements to that list\n",
    "#Find frequency of 8 (count)\n",
    "#find the mean of the list\n",
    "#find sum (List) + min + Max \n",
    "#Find median of the list\n",
    "#remove duplicates from list and give output in the format of tuple\n",
    "\n",
    "\n",
    "a = []\n",
    "b = a + [5,6,7,8]\n",
    "a = b + [8,9,1,5,6,7,8,1]\n",
    "print(a)\n",
    "x = a.count(8)\n",
    "print(x)\n",
    "mean = (sum(a)/len(a))\n",
    "print(mean)\n",
    "median = (len(a)/2)\n",
    "print(median)\n",
    "print(set(a)) # to remove duplicates, convert to set\n",
    "print(tuple(set(a))) # to convert to set\n",
    "\n"
   ]
  },
  {
   "cell_type": "code",
   "execution_count": 31,
   "metadata": {},
   "outputs": [
    {
     "name": "stdout",
     "output_type": "stream",
     "text": [
      "{0, 1, 2, 3, 4, 5, 7, 8}\n",
      "{0, 4, 5, 6}\n",
      "False\n",
      "True\n",
      "{0, 1, 2, 3, 4, 5, 7}\n",
      "{1, 2, 3, 4, 5, 7}\n",
      "{0, 4, 5, 6}\n",
      "{0, 1, 2, 3, 4, 5, 6, 7}\n"
     ]
    }
   ],
   "source": [
    "#Task2: Sets\n",
    "\n",
    "#Create two empty sets\n",
    "#update set1 with 7,8,9,1,2,3,4,5,0\n",
    "#update set2 with 4,5,6,0\n",
    "#check whether set2 is subset of set1 or no ?\n",
    "#check whether both have common elements are no ?\n",
    "#remove 8 from set 1 and set 2 ==> find the inferences\n",
    "#discard 0 from set1 and set2 \n",
    "#find collection of both sets ===> set1 and set2\n",
    "\n",
    "a = set()\n",
    "b = set()\n",
    "c = {7,8,1,2,3,4,5,0}\n",
    "d = {4,5,6,0}\n",
    "a.update(c)\n",
    "print(a)\n",
    "b.update(d)\n",
    "print(b)\n",
    "print(b.issubset(a))\n",
    "print(bool(a.intersection(b)))\n",
    "a.remove(8)\n",
    "print(a)\n",
    "#b.remove(8)\n",
    "#print(b)\n",
    "a.discard(0)\n",
    "print(a)\n",
    "b.discard(9)\n",
    "print(b)\n",
    "print(a.union(b))\n"
   ]
  },
  {
   "cell_type": "code",
   "execution_count": 40,
   "metadata": {},
   "outputs": [
    {
     "name": "stdout",
     "output_type": "stream",
     "text": [
      "(8, 5, 6, 7)\n",
      "(1, 4, 5, 6, 7, 8, 5, 6, 7, 8, 9)\n",
      "(1, 4, 5, 6, 7, 8, 9)\n",
      "6\n",
      "(1, 4, 5, 6, 7, 8, 9, 1, 4, 5, 6, 7, 8, 9, 1, 4, 5, 6, 7, 8, 9)\n"
     ]
    }
   ],
   "source": [
    "#Task3: Tuple\n",
    "\n",
    "#Create two tuples (1,4,5,6,7,8) (5,6,7,8,9)\n",
    "#Find the common elements between two tuples\n",
    "#Concatenate both tuples and remove duplicates from tuple\n",
    "#Find the index value of 9 (after concatenation)\n",
    "#multiply above elements 3 times\n",
    "\n",
    "a = (1,4,5,6,7,8)\n",
    "b = (5,6,7,8,9)\n",
    "a1 = set(a)\n",
    "b1 = set(b)\n",
    "print(tuple(a1.intersection(b1)))\n",
    "c = a + b\n",
    "print(c)\n",
    "d = tuple(set(c))\n",
    "print(d)\n",
    "print(d.index(9))\n",
    "print(d*3)"
   ]
  },
  {
   "cell_type": "code",
   "execution_count": 56,
   "metadata": {},
   "outputs": [
    {
     "name": "stdout",
     "output_type": "stream",
     "text": [
      "bobtn\n",
      "arbeg\n",
      "(1, 2, 3)\n",
      "20.0\n"
     ]
    }
   ],
   "source": [
    "#Task4: Dictionary:\n",
    "\n",
    "#create a dictionary\n",
    "#{1:[\"english\",\"maths\",\"science\"], 2:[10,20,30], 3:[\"bio-botany\",\"bio-zoology\",\"Algebra\"]}\n",
    "#Extract \"bobtn\" from above dictionary\n",
    "#Extract \"arbeg\" from above dictionary\n",
    "#print all keys in dictionary and convert it into tuple\n",
    "#Find the average of all numbers available under key \"2\"\n",
    "\n",
    "a = {1:[\"english\",\"maths\",\"science\"], 2:[10,20,30], 3:[\"bio-botany\",\"bio-zoology\",\"Algebra\"]}\n",
    "print(a[3][0][::2])\n",
    "print(a[3][2][:-6:-1])\n",
    "print(tuple(a.keys()))\n",
    "print(sum(a[2])/len(b))"
   ]
  },
  {
   "cell_type": "code",
   "execution_count": null,
   "metadata": {},
   "outputs": [],
   "source": []
  }
 ],
 "metadata": {
  "kernelspec": {
   "display_name": "Python 3",
   "language": "python",
   "name": "python3"
  },
  "language_info": {
   "codemirror_mode": {
    "name": "ipython",
    "version": 3
   },
   "file_extension": ".py",
   "mimetype": "text/x-python",
   "name": "python",
   "nbconvert_exporter": "python",
   "pygments_lexer": "ipython3",
   "version": "3.8.3"
  }
 },
 "nbformat": 4,
 "nbformat_minor": 4
}
