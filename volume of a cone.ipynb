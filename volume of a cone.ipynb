{
 "cells": [
  {
   "cell_type": "code",
   "execution_count": 5,
   "metadata": {},
   "outputs": [
    {
     "name": "stdout",
     "output_type": "stream",
     "text": [
      "Enter the radius of the cone: 3\n",
      "Enter the height of the cone: 4\n",
      "37\n"
     ]
    }
   ],
   "source": [
    "#task2:\n",
    "\n",
    "#1/3 * pi * r2 * h volume cone\n",
    "#pi ==> static\n",
    "#r ==> get it from user (input) ==> float\n",
    "#h ===> input ===> integer\n",
    "\n",
    "#Final ==> integer\n",
    "\n",
    "pi = 3.14\n",
    "r = float(input(\"Enter the radius of the cone: \"))\n",
    "h = int(input(\"Enter the height of the cone: \"))\n",
    "volume = 1/3 * pi * (r**2) * h\n",
    "volume_int = int(volume)\n",
    "print(volume_int)"
   ]
  },
  {
   "cell_type": "code",
   "execution_count": null,
   "metadata": {},
   "outputs": [],
   "source": []
  }
 ],
 "metadata": {
  "kernelspec": {
   "display_name": "Python 3",
   "language": "python",
   "name": "python3"
  },
  "language_info": {
   "codemirror_mode": {
    "name": "ipython",
    "version": 3
   },
   "file_extension": ".py",
   "mimetype": "text/x-python",
   "name": "python",
   "nbconvert_exporter": "python",
   "pygments_lexer": "ipython3",
   "version": "3.7.3"
  }
 },
 "nbformat": 4,
 "nbformat_minor": 2
}
