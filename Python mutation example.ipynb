{
 "cells": [
  {
   "cell_type": "code",
   "execution_count": 11,
   "metadata": {},
   "outputs": [
    {
     "name": "stdout",
     "output_type": "stream",
     "text": [
      "['a', 'b', 'r', 'a', 'c', 'a', 'd', 'a', 'b', 'r', 'a']\n",
      "['a', 'b', 'r', 'a', 'c', 'k', 'd', 'a', 'b', 'r', 'a']\n",
      "abrackdabra\n",
      "abracadabra\n"
     ]
    }
   ],
   "source": [
    "#https://www.hackerrank.com/challenges/python-mutations/problem\n",
    "\n",
    "string = \"abracadabra\"\n",
    "l = list(string)\n",
    "print(l)\n",
    "l[5] = \"k\"\n",
    "print(l)\n",
    "string = \"\".join(l)\n",
    "print(string)\n",
    "\n",
    "#another way of modifying a character in a string with string slicing & joining\n",
    "string = string[:5] + \"a\" + string[6:]\n",
    "print(string)"
   ]
  },
  {
   "cell_type": "code",
   "execution_count": null,
   "metadata": {},
   "outputs": [],
   "source": []
  }
 ],
 "metadata": {
  "kernelspec": {
   "display_name": "Python 3",
   "language": "python",
   "name": "python3"
  },
  "language_info": {
   "codemirror_mode": {
    "name": "ipython",
    "version": 3
   },
   "file_extension": ".py",
   "mimetype": "text/x-python",
   "name": "python",
   "nbconvert_exporter": "python",
   "pygments_lexer": "ipython3",
   "version": "3.7.3"
  }
 },
 "nbformat": 4,
 "nbformat_minor": 2
}
