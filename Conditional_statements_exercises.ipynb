{
 "cells": [
  {
   "cell_type": "code",
   "execution_count": 5,
   "metadata": {},
   "outputs": [
    {
     "name": "stdout",
     "output_type": "stream",
     "text": [
      "Enter the string: housemate\n",
      "housemate\n",
      "e\n",
      "e is a Vowel\n"
     ]
    }
   ],
   "source": [
    "#program1\n",
    "#Get one string from user\n",
    "#extract middle letter of the string\n",
    "#check whether middle letter is vowel or no\n",
    "\n",
    "a = input(\"Enter the string: \")\n",
    "print(a)\n",
    "ch = a[int(len(a)/2)]\n",
    "print(ch)\n",
    "if (ch=='a' or ch=='A' or ch=='e' or ch=='E' or ch=='i' or ch=='I' or ch=='o' \n",
    "    or ch=='O' or ch=='u' or ch=='U'):\n",
    "    print(ch, \"is a Vowel\")\n",
    "else:\n",
    "    print(ch, \"is a Consonant\")"
   ]
  },
  {
   "cell_type": "code",
   "execution_count": 13,
   "metadata": {},
   "outputs": [
    {
     "name": "stdout",
     "output_type": "stream",
     "text": [
      "Enter the string: python\n",
      "The middle charecter is h and it's ascii value 104 is even\n"
     ]
    }
   ],
   "source": [
    "#program2\n",
    "#Get one string from user\n",
    "#Find the middle letter\n",
    "#find ascii value for the middle letter\n",
    "#check whether ascii value is odd or even\n",
    "\n",
    "#to find ascii of a char, ord() is used\n",
    "#to find char from ascii, chr() is used\n",
    "\n",
    "a = input(\"Enter the string: \")\n",
    "b = a[int(len(a)/2)]\n",
    "ch = ord(b) \n",
    "if ch%2 == 0:\n",
    "    print(\"The middle charecter is {0} and it's ascii value {1} is even\".format(b,ch))\n",
    "else:\n",
    "    print(\"the middle charecter is {0} and it's ascii {1} value is odd\".format(b,ch))"
   ]
  },
  {
   "cell_type": "code",
   "execution_count": 9,
   "metadata": {},
   "outputs": [
    {
     "name": "stdout",
     "output_type": "stream",
     "text": [
      "Enter the string: science\n",
      "Length of the string is odd\n"
     ]
    }
   ],
   "source": [
    "#program3:\n",
    "#get one string from user\n",
    "#check whether length of the string is odd or even\n",
    "\n",
    "a = input(\"Enter the string: \")\n",
    "if len(a)%2 == 0:\n",
    "    print(\"Length of the string is even\")\n",
    "else:\n",
    "    print(\"Length of the string is odd\")\n",
    "    \n"
   ]
  },
  {
   "cell_type": "code",
   "execution_count": 18,
   "metadata": {},
   "outputs": [
    {
     "name": "stdout",
     "output_type": "stream",
     "text": [
      "Enter the string: malayalam\n",
      "malayalam is a palindrome\n"
     ]
    }
   ],
   "source": [
    "#program4:\n",
    "#Get one string from user\n",
    "#check whether string is palindrome or no\n",
    "\n",
    "a = input(\"Enter the string: \")\n",
    "if a == a[::-1]:\n",
    "    print(\"{0} is a palindrome\".format(a))\n",
    "else: \n",
    "    print(\"{0} is not a palindrom\".format(a))"
   ]
  },
  {
   "cell_type": "code",
   "execution_count": 33,
   "metadata": {},
   "outputs": [
    {
     "name": "stdout",
     "output_type": "stream",
     "text": [
      "Enter the mark of the student: 79\n",
      "79 is Valid mark\n",
      "PASS\n",
      "Grade is C-\n"
     ]
    }
   ],
   "source": [
    "#program5:\n",
    "#Get one mark from student\n",
    "#mark 0 to 100 otherwise invalid mark\n",
    "\n",
    "#50 + PASS otherwise FAIL\n",
    "#90 to 100 ===> A  ==> Even + Odd -\n",
    "#80 to 89 ===> B\n",
    "#70 to 79 ===> C\n",
    "#60 to 69 ===> D\n",
    "#50 to 59 ===> E\n",
    "\n",
    "#0 to 49 ===> FAIL\n",
    "\n",
    "\n",
    "#93 ===> A-\n",
    "#99 ===> A-\n",
    "#88 ====> B+\n",
    "\n",
    "#78\n",
    "\n",
    "#VALID MARK\n",
    "#PASS MARK\n",
    "#B+\n",
    "\n",
    "mark = int(input(\"Enter the mark of the student: \"))\n",
    "if (mark >= 0) and (mark <= 100):\n",
    "    print(\"{0} is Valid mark\".format(mark))\n",
    "else:\n",
    "    print(\"{0} is Invalid mark\".format(mark))\n",
    "if (mark > 50) and (mark <= 100):\n",
    "    print(\"PASS\")\n",
    "elif (mark >= 0) and (mark <= 50):\n",
    "    print(\"FAIL\")\n",
    "if ((mark > 89) and (mark <= 100) and (mark%2 == 0)):\n",
    "    print(\"Grade is A+\")\n",
    "elif ((mark > 89) and (mark <= 100) and (mark%2 != 0)):\n",
    "    print(\"Grade is A-\")\n",
    "elif ((mark > 79) and (mark <= 89) and (mark%2 == 0)):\n",
    "    print(\"Grade is B+\")\n",
    "elif ((mark > 79) and (mark <= 89) and (mark%2 != 0)):   \n",
    "    print(\"Grade is B-\")\n",
    "elif ((mark > 69) and (mark <= 79) and (mark%2 == 0)):\n",
    "    print(\"Grade is C+\")\n",
    "elif ((mark > 69) and (mark <= 79) and (mark%2 != 0)):   \n",
    "    print(\"Grade is C-\")\n",
    "elif ((mark > 59) and (mark <= 69) and (mark%2 == 0)):\n",
    "    print(\"Grade is D+\")\n",
    "elif ((mark > 59) and (mark <= 69) and (mark%2 != 0)):   \n",
    "    print(\"Grade is D-\")\n",
    "elif ((mark > 49) and (mark <= 59) and (mark%2 == 0)):\n",
    "    print(\"Grade is E+\")\n",
    "elif ((mark > 49) and (mark <= 59) and (mark%2 != 0)):   \n",
    "    print(\"Grade is E-\")\n",
    "\n"
   ]
  },
  {
   "cell_type": "code",
   "execution_count": null,
   "metadata": {},
   "outputs": [],
   "source": []
  }
 ],
 "metadata": {
  "kernelspec": {
   "display_name": "Python 3",
   "language": "python",
   "name": "python3"
  },
  "language_info": {
   "codemirror_mode": {
    "name": "ipython",
    "version": 3
   },
   "file_extension": ".py",
   "mimetype": "text/x-python",
   "name": "python",
   "nbconvert_exporter": "python",
   "pygments_lexer": "ipython3",
   "version": "3.8.3"
  }
 },
 "nbformat": 4,
 "nbformat_minor": 4
}
