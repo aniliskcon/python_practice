{
 "cells": [
  {
   "cell_type": "code",
   "execution_count": 5,
   "metadata": {},
   "outputs": [
    {
     "name": "stdout",
     "output_type": "stream",
     "text": [
      "Even count is 3\n"
     ]
    }
   ],
   "source": [
    "#write a program to check no of even numbers 23789  ===> two even numbers\n",
    "\n",
    "def count(n):\n",
    "    even_count = 0\n",
    "    odd_count = 0\n",
    "    while(n>0):\n",
    "        b = n%10\n",
    "        if (b%2 == 0):\n",
    "            even_count += 1\n",
    "        else:\n",
    "            odd_count += 1\n",
    "        n = n // 10\n",
    "    print(\"Even count is {}\".format(even_count))\n",
    "\n",
    "count(54456)"
   ]
  },
  {
   "cell_type": "code",
   "execution_count": 6,
   "metadata": {},
   "outputs": [
    {
     "name": "stdout",
     "output_type": "stream",
     "text": [
      "5 is a prime number\n"
     ]
    }
   ],
   "source": [
    "#prime number using function\n",
    "\n",
    "def prime(n):\n",
    "    if n>1:\n",
    "        for i in range(2,n):\n",
    "            if n%i == 0:\n",
    "                print(\"{} is not a prime number\".format(n))\n",
    "                break\n",
    "            else:\n",
    "                print(\"{} is a prime number\".format(n))\n",
    "                break\n",
    "    else:\n",
    "        print(\"{} is not a prime number\".format(n))\n",
    "prime(5)"
   ]
  },
  {
   "cell_type": "code",
   "execution_count": 11,
   "metadata": {},
   "outputs": [
    {
     "name": "stdout",
     "output_type": "stream",
     "text": [
      "enter the number: 5\n",
      "The factorial of 5 is 120\n"
     ]
    }
   ],
   "source": [
    "#factorial using function\n",
    "\n",
    "def factorial(n):\n",
    "    f = 1\n",
    "    if n!=0:\n",
    "        f = n*factorial(n-1)\n",
    "        return f\n",
    "    else:\n",
    "        return 1\n",
    "    \n",
    "m = int(input(\"enter the number: \"))\n",
    "print(\"The factorial of {} is {}\".format(m,factorial(m)))\n",
    "        \n",
    "    "
   ]
  },
  {
   "cell_type": "code",
   "execution_count": 12,
   "metadata": {},
   "outputs": [
    {
     "name": "stdout",
     "output_type": "stream",
     "text": [
      "Enter the number of elements in fibonacci series: 6\n",
      "[0, 1, [0, 1, [0, 1, [0, 1, [0, 1, [0, 1, 0, 1], 0, 1], 0, 1, [0, 1, 0, 1]], 0, 1, [0, 1, [0, 1, 0, 1], 0, 1]], 0, 1, [0, 1, [0, 1, [0, 1, 0, 1], 0, 1], 0, 1, [0, 1, 0, 1]]]]\n"
     ]
    }
   ],
   "source": [
    "#fibonacci series\n",
    "def fibonacci(n):\n",
    "    fibo_series = [0,1]\n",
    "    if n>=2:\n",
    "        f = fibonacci(n-1) + fibonacci(n-2)\n",
    "        fibo_series.append(f)\n",
    "        return f\n",
    "    else:\n",
    "        return fibo_series\n",
    "m = int(input(\"Enter the number of elements in fibonacci series: \"))\n",
    "print(fibonacci(m))"
   ]
  },
  {
   "cell_type": "code",
   "execution_count": null,
   "metadata": {},
   "outputs": [],
   "source": []
  }
 ],
 "metadata": {
  "kernelspec": {
   "display_name": "Python 3",
   "language": "python",
   "name": "python3"
  },
  "language_info": {
   "codemirror_mode": {
    "name": "ipython",
    "version": 3
   },
   "file_extension": ".py",
   "mimetype": "text/x-python",
   "name": "python",
   "nbconvert_exporter": "python",
   "pygments_lexer": "ipython3",
   "version": "3.8.3"
  }
 },
 "nbformat": 4,
 "nbformat_minor": 4
}
