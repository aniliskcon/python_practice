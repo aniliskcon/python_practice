{
 "cells": [
  {
   "cell_type": "code",
   "execution_count": 8,
   "metadata": {},
   "outputs": [
    {
     "name": "stdout",
     "output_type": "stream",
     "text": [
      "50\n",
      "16665\n",
      "ompute\n",
      "61.5\n"
     ]
    }
   ],
   "source": [
    "Li1 = [2,3,4,5,[45,56,67,78,[111,222,333,[5555,3333,[10000,50000,\"python\",\"computer\"],1111,7777,8888],444,555,666,777],89,23,34]]\n",
    "\n",
    "#50 from 50000\n",
    "a = Li1[4][4][3][2][1]\n",
    "#print(int((str(a)[:2])))\n",
    "print (str(a)[:2])\n",
    "\n",
    "#[7777,8888] ===> sum ==> addition\n",
    "Li2 = Li1[4][4][3][4:6]\n",
    "print(Li2[0] + Li2[1])\n",
    "\n",
    "#ompute\n",
    "b = Li1[4][4][3][2][3]\n",
    "print(b[1:7])\n",
    "\n",
    "#[45,56,67,78] ===> mean ==> sum / len\n",
    "Li3 = Li1[4][:4]\n",
    "#print(sum(Li3))\n",
    "#print(sum(Li3)/len(Li3))\n",
    "sum = 0\n",
    "for i in Li3:\n",
    "    sum = sum + i\n",
    "#print(sum)\n",
    "print(sum/len(Li3))\n",
    "    \n",
    "\n",
    "\n"
   ]
  },
  {
   "cell_type": "code",
   "execution_count": null,
   "metadata": {},
   "outputs": [],
   "source": []
  },
  {
   "cell_type": "code",
   "execution_count": null,
   "metadata": {},
   "outputs": [],
   "source": []
  }
 ],
 "metadata": {
  "kernelspec": {
   "display_name": "Python 3",
   "language": "python",
   "name": "python3"
  },
  "language_info": {
   "codemirror_mode": {
    "name": "ipython",
    "version": 3
   },
   "file_extension": ".py",
   "mimetype": "text/x-python",
   "name": "python",
   "nbconvert_exporter": "python",
   "pygments_lexer": "ipython3",
   "version": "3.8.5"
  }
 },
 "nbformat": 4,
 "nbformat_minor": 2
}
