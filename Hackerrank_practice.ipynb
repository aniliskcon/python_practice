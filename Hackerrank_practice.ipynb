{
 "cells": [
  {
   "cell_type": "code",
   "execution_count": 7,
   "metadata": {
    "scrolled": true
   },
   "outputs": [
    {
     "name": "stdout",
     "output_type": "stream",
     "text": [
      "Enter the number of scores: 6\n",
      "Enter the element 0:2\n",
      "Enter the element 1:5\n",
      "Enter the element 2:6\n",
      "Enter the element 3:6\n",
      "Enter the element 4:7\n",
      "Enter the element 5:7\n",
      "[2, 5, 6, 6, 7, 7]\n",
      "6\n"
     ]
    }
   ],
   "source": [
    "#Given the participants' score sheet for your University Sports Day, you are required to find the runner-up score. You are given scores. Store them in a list and find the score of the runner-up.\n",
    "\n",
    "#Input Format\n",
    "\n",
    "#The first line contains n. The second line contains an array A[] of n integers each separated by a space.\n",
    "\n",
    "# 1,3,4,5,5,5,5\n",
    "\n",
    "# Below program contains dynamic creation of List n numbers and then finding runner up score. i.e second largest number\n",
    "n = int(input(\"Enter the number of scores: \"))\n",
    "Li = []\n",
    "for i in range(n):\n",
    "    val = int(input(\"Enter the element {}:\".format(i)))\n",
    "    Li.append(val)\n",
    "\n",
    "print(Li)\n",
    "dup_elements = set()\n",
    "unique_elements = []\n",
    "for i in Li:\n",
    "    if i not in dup_elements:\n",
    "        unique_elements.append(i)\n",
    "        dup_elements.add(i)\n",
    "unique_elements.sort()            \n",
    "runner_up_score = unique_elements[-2]\n",
    "print(runner_up_score)"
   ]
  },
  {
   "cell_type": "code",
   "execution_count": 1,
   "metadata": {},
   "outputs": [
    {
     "name": "stdout",
     "output_type": "stream",
     "text": [
      "Enter the number of scores: 6\n",
      "Enter the element 0:7\n",
      "Enter the element 1:5\n",
      "Enter the element 2:7\n",
      "Enter the element 3:4\n",
      "Enter the element 4:8\n",
      "Enter the element 5:6\n",
      "runner_up_score is:  7\n"
     ]
    }
   ],
   "source": [
    "n = int(input(\"Enter the number of scores: \"))\n",
    "Li = []\n",
    "for i in range(n):\n",
    "    val = int(input(\"Enter the element {}:\".format(i)))\n",
    "    Li.append(val)\n",
    "    \n",
    "Li_unique = list(set(Li))\n",
    "Li_unique.sort()\n",
    "print(\"runner_up_score is: \", Li_unique[-2])"
   ]
  },
  {
   "cell_type": "code",
   "execution_count": null,
   "metadata": {},
   "outputs": [],
   "source": []
  },
  {
   "cell_type": "code",
   "execution_count": null,
   "metadata": {},
   "outputs": [],
   "source": []
  }
 ],
 "metadata": {
  "kernelspec": {
   "display_name": "Python 3",
   "language": "python",
   "name": "python3"
  },
  "language_info": {
   "codemirror_mode": {
    "name": "ipython",
    "version": 3
   },
   "file_extension": ".py",
   "mimetype": "text/x-python",
   "name": "python",
   "nbconvert_exporter": "python",
   "pygments_lexer": "ipython3",
   "version": "3.8.3"
  }
 },
 "nbformat": 4,
 "nbformat_minor": 4
}
