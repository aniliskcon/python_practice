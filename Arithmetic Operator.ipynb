{
 "cells": [
  {
   "cell_type": "code",
   "execution_count": 6,
   "metadata": {},
   "outputs": [
    {
     "name": "stdout",
     "output_type": "stream",
     "text": [
      "Enter the first number = 10\n",
      "Enter the second number = 20\n",
      "The sum of two numbers is 30\n",
      "The difference of two numbers is -10\n",
      "The product of two numbers is 200\n"
     ]
    }
   ],
   "source": [
    "num1 = int(input(\"Enter the first number = \"))\n",
    "num2 = int(input(\"Enter the second number = \"))\n",
    "sum = num1 + num2\n",
    "Diff = num1 - num2\n",
    "Product = num1*num2\n",
    "print (\"The sum of two numbers is\", sum)\n",
    "print (\"The difference of two numbers is\", Diff)\n",
    "print (\"The product of two numbers is\", Product)"
   ]
  },
  {
   "cell_type": "code",
   "execution_count": null,
   "metadata": {},
   "outputs": [],
   "source": []
  }
 ],
 "metadata": {
  "kernelspec": {
   "display_name": "Python 3",
   "language": "python",
   "name": "python3"
  },
  "language_info": {
   "codemirror_mode": {
    "name": "ipython",
    "version": 3
   },
   "file_extension": ".py",
   "mimetype": "text/x-python",
   "name": "python",
   "nbconvert_exporter": "python",
   "pygments_lexer": "ipython3",
   "version": "3.7.3"
  }
 },
 "nbformat": 4,
 "nbformat_minor": 2
}
