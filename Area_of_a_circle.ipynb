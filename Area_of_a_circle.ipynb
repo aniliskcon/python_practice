{
 "cells": [
  {
   "cell_type": "code",
   "execution_count": 4,
   "metadata": {},
   "outputs": [
    {
     "name": "stdout",
     "output_type": "stream",
     "text": [
      "Radius of Circle is 3\n",
      "28.26\n",
      "18.84\n"
     ]
    }
   ],
   "source": [
    "# This is program to calculate area of a circle and perimeter of a circle\n",
    "\n",
    "pi = 3.14\n",
    "radius = float(input(\"Radius of Circle is \"))\n",
    "area_of_circle = pi * (radius**2)\n",
    "perimeter_of_circle = 2 * pi * radius\n",
    "print(area_of_circle)\n",
    "print(perimeter_of_circle)"
   ]
  },
  {
   "cell_type": "code",
   "execution_count": null,
   "metadata": {},
   "outputs": [],
   "source": []
  },
  {
   "cell_type": "code",
   "execution_count": null,
   "metadata": {},
   "outputs": [],
   "source": []
  }
 ],
 "metadata": {
  "kernelspec": {
   "display_name": "Python 3",
   "language": "python",
   "name": "python3"
  },
  "language_info": {
   "codemirror_mode": {
    "name": "ipython",
    "version": 3
   },
   "file_extension": ".py",
   "mimetype": "text/x-python",
   "name": "python",
   "nbconvert_exporter": "python",
   "pygments_lexer": "ipython3",
   "version": "3.7.3"
  }
 },
 "nbformat": 4,
 "nbformat_minor": 2
}
