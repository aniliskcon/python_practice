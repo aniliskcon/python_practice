{
 "cells": [
  {
   "cell_type": "code",
   "execution_count": 6,
   "metadata": {},
   "outputs": [
    {
     "name": "stdout",
     "output_type": "stream",
     "text": [
      "cneics_retupmo\n",
      "tc\n",
      "ie\n",
      "\n",
      "\n",
      "sr\n",
      "\n",
      "ec_eu\n",
      "\n",
      "\n",
      "eesepc\n",
      "enisrtpo\n",
      "\n",
      "mue_ce\n",
      "tc\n",
      "pese\n",
      "cmue_cec\n",
      "ectc\n",
      "eumc\n"
     ]
    }
   ],
   "source": [
    "a = \"computer_science\"\n",
    "\n",
    "print(a[-2:0:-1])  #cneics_retupmoc\n",
    "print(a[5:-5:5])   #tci\n",
    "print(a[-5:5:-5])  #iet\n",
    "print(a[5:-5:-5])  #empty\n",
    "print(a[3:9:-1])   #empty\n",
    "print(a[9:-10:-2]) #sre\n",
    "print(a[2:-4:-4])  #empty\n",
    "print(a[-4:2:-2])  #ec_eum\n",
    "print(a[0:-1:-3])  #empty\n",
    "print(a[-3:3:6])   #empty\n",
    "print(a[::-3])     #eesepc\n",
    "print(a[::-2])     #enisrtpo\n",
    "print(a[2:-2:-2])  #empty\n",
    "print(a[2:-2:2])   #mue_cec\n",
    "print(a[5:-5:5])   #tci\n",
    "print(a[3:-3:3])   #pesen\n",
    "print(a[::2])      #cmue_cec\n",
    "print(a[::-5])     #ectc\n",
    "print(a[6::-2])    #eumc"
   ]
  },
  {
   "cell_type": "code",
   "execution_count": null,
   "metadata": {},
   "outputs": [],
   "source": []
  }
 ],
 "metadata": {
  "kernelspec": {
   "display_name": "Python 3",
   "language": "python",
   "name": "python3"
  },
  "language_info": {
   "codemirror_mode": {
    "name": "ipython",
    "version": 3
   },
   "file_extension": ".py",
   "mimetype": "text/x-python",
   "name": "python",
   "nbconvert_exporter": "python",
   "pygments_lexer": "ipython3",
   "version": "3.7.3"
  }
 },
 "nbformat": 4,
 "nbformat_minor": 2
}
