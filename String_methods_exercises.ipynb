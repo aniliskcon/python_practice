{
 "cells": [
  {
   "cell_type": "code",
   "execution_count": 1,
   "metadata": {},
   "outputs": [
    {
     "name": "stdout",
     "output_type": "stream",
     "text": [
      "Enter the number: 7\n",
      "Enter the string: python\n",
      "pythonpythonpythonpythonpythonpythonpython\n",
      "777777\n",
      "pythonpythonpythonpythonpythonpythonpython777777\n"
     ]
    }
   ],
   "source": [
    "#String methods\n",
    "\n",
    "#Program-1: Get two values (input) ===> number, string\n",
    "\n",
    "#7 , \"python\" ===> pythonpythonpythonpythonpythonpythonpython777777\n",
    "\n",
    "#3 , \"perl\"   ===> perlperlperl3333\n",
    "\n",
    "val_a = input(\"Enter the number: \")\n",
    "val_b = input(\"Enter the string: \")\n",
    "u = val_b * int(val_a)\n",
    "print(u)\n",
    "v = len(val_b) * val_a\n",
    "print(v)\n",
    "w = u + v\n",
    "print(w)"
   ]
  },
  {
   "cell_type": "code",
   "execution_count": 2,
   "metadata": {},
   "outputs": [
    {
     "name": "stdout",
     "output_type": "stream",
     "text": [
      "Ether the number: 3\n",
      "Enter the string: computer_science\n",
      "com\n",
      "nce\n",
      "puter_scie\n",
      "mocputer_scieecn\n"
     ]
    }
   ],
   "source": [
    "#2. Get two values (input) ===> string, number\n",
    "\n",
    "#computer_science, 3 ===> mocputer_scieecn\n",
    "\n",
    "#biology , 2  ===> iboloyg\n",
    "\n",
    "val_a = input (\"Ether the number: \")\n",
    "val_b = input (\"Enter the string: \")\n",
    "a = int(val_a)\n",
    "b = val_b[:a]\n",
    "c = val_b[-a:]\n",
    "print(b)\n",
    "print(c)\n",
    "b_reverse = b[::-1]\n",
    "c_reverse = c[::-1]\n",
    "x = val_b[a:-a]\n",
    "print(x)\n",
    "print(b_reverse+x+c_reverse)"
   ]
  },
  {
   "cell_type": "code",
   "execution_count": 1,
   "metadata": {},
   "outputs": [
    {
     "name": "stdout",
     "output_type": "stream",
     "text": [
      "Enter first string: computer\n",
      "Enter second string: science\n",
      "U\n",
      "E\n",
      "compUter\n",
      "sciEnce\n",
      "compUtersciEnce\n",
      "compUteRsciEnce\n"
     ]
    }
   ],
   "source": [
    "#program 3:\n",
    "\n",
    "#get two strings from user  computer science  ==> input \n",
    "\n",
    "#step 1 ==> comPuter  sciEnce\n",
    "\n",
    "#step 2 ===> concatenate both ==> comPutersciEnce\n",
    "\n",
    "#step 3 ===> comPuteRsciEnce\n",
    "\n",
    "\n",
    "val_a = input(\"Enter first string: \")\n",
    "val_b = input(\"Enter second string: \")\n",
    "#c = len(val_a)\n",
    "#d = len(val_b)\n",
    "g = int(len(val_a)/2)\n",
    "f = int(len(val_b)/2)\n",
    "a1 = val_a[g]\n",
    "b1 = val_b[f]\n",
    "a2 = a1.upper()\n",
    "b2 = b1.upper()\n",
    "print(a2)\n",
    "print(b2)\n",
    "a = val_a.replace(a1,a2,1)\n",
    "b = val_b.replace(b1,b2,1)\n",
    "print(a)\n",
    "print(b)\n",
    "x = a + b\n",
    "print(x)\n",
    "#y = len(x)/2\n",
    "y1 = int(len(x)/2)\n",
    "y2 = x[y1]\n",
    "y3 = y2.upper()\n",
    "z = x.replace(y2,y3)\n",
    "print(z)"
   ]
  },
  {
   "cell_type": "code",
   "execution_count": 2,
   "metadata": {},
   "outputs": [
    {
     "name": "stdout",
     "output_type": "stream",
     "text": [
      "69.66666666666667\n",
      "Enter the element to find corresponding index: 100\n",
      "7\n",
      "Enter the index: 3\n",
      "[2, 3, 4, 5, 100, 101, 102, 103, 104, 1]\n"
     ]
    }
   ],
   "source": [
    "#program 4:\n",
    "\n",
    "#[103,104,1,2,3,4,5,100,101,102]  ==> hard coded \n",
    "\n",
    "#Task 1 ===> first ele + middle ele + last ele  / 3\n",
    "\n",
    "#Task 2 ===> one number ===> index  ==> index\n",
    "\n",
    "#index ==3  ===> [2,3,4,5,100,101,102, 103,104,1]\n",
    "\n",
    "a = [103,104,1,2,3,4,5,100,101,102]\n",
    "b = (a[0] + a[-1] + a[int(len(a)/2)]) / 3\n",
    "print(b)\n",
    "i = int(input(\"Enter the element to find corresponding index: \"))\n",
    "c = a.index(i)\n",
    "print(c)\n",
    "d = int(input(\"Enter the index: \"))\n",
    "a = a[d:] + a[:d]\n",
    "print(a)"
   ]
  },
  {
   "cell_type": "code",
   "execution_count": 3,
   "metadata": {},
   "outputs": [
    {
     "name": "stdout",
     "output_type": "stream",
     "text": [
      "34.2\n",
      "105.0\n"
     ]
    }
   ],
   "source": [
    "#Program 5:\n",
    "\n",
    "#{1: 100, 2:101, 3: 103, 4:104, 5:105}\n",
    "\n",
    "#Task1 ===> sum all values / sum of all keys \n",
    "\n",
    "#Task2 ===> Max(values) / Min(key)\n",
    "\n",
    "a = {1:100, 2:101, 3:103, 4:104, 5:105}\n",
    "v = sum(a.values())\n",
    "k = sum(a.keys())\n",
    "avg = v / k\n",
    "print(avg)\n",
    "x = max(a.values())\n",
    "y = min(a.keys())\n",
    "z = x / y\n",
    "print(z)"
   ]
  },
  {
   "cell_type": "code",
   "execution_count": null,
   "metadata": {},
   "outputs": [],
   "source": []
  }
 ],
 "metadata": {
  "kernelspec": {
   "display_name": "Python 3",
   "language": "python",
   "name": "python3"
  },
  "language_info": {
   "codemirror_mode": {
    "name": "ipython",
    "version": 3
   },
   "file_extension": ".py",
   "mimetype": "text/x-python",
   "name": "python",
   "nbconvert_exporter": "python",
   "pygments_lexer": "ipython3",
   "version": "3.8.3"
  }
 },
 "nbformat": 4,
 "nbformat_minor": 4
}
