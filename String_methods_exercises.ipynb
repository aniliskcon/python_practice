{
 "cells": [
  {
   "cell_type": "code",
   "execution_count": 1,
   "metadata": {},
   "outputs": [
    {
     "name": "stdout",
     "output_type": "stream",
     "text": [
      "Enter the number: 7\n",
      "Enter the string: python\n",
      "pythonpythonpythonpythonpythonpythonpython\n",
      "777777\n",
      "pythonpythonpythonpythonpythonpythonpython777777\n"
     ]
    }
   ],
   "source": [
    "#String methods\n",
    "\n",
    "#Program-1: Get two values (input) ===> number, string\n",
    "\n",
    "#7 , \"python\" ===> pythonpythonpythonpythonpythonpythonpython777777\n",
    "\n",
    "#3 , \"perl\"   ===> perlperlperl3333\n",
    "\n",
    "val_a = input(\"Enter the number: \")\n",
    "val_b = input(\"Enter the string: \")\n",
    "u = val_b * int(val_a)\n",
    "print(u)\n",
    "v = len(val_b) * val_a\n",
    "print(v)\n",
    "w = u + v\n",
    "print(w)"
   ]
  },
  {
   "cell_type": "code",
   "execution_count": 2,
   "metadata": {},
   "outputs": [
    {
     "name": "stdout",
     "output_type": "stream",
     "text": [
      "Ether the number: 3\n",
      "Enter the string: computer_science\n",
      "com\n",
      "nce\n",
      "puter_scie\n",
      "mocputer_scieecn\n"
     ]
    }
   ],
   "source": [
    "#2. Get two values (input) ===> string, number\n",
    "\n",
    "#computer_science, 3 ===> mocputer_scieecn\n",
    "\n",
    "#biology , 2  ===> iboloyg\n",
    "\n",
    "val_a = input (\"Ether the number: \")\n",
    "val_b = input (\"Enter the string: \")\n",
    "a = int(val_a)\n",
    "b = val_b[:a]\n",
    "c = val_b[-a:]\n",
    "print(b)\n",
    "print(c)\n",
    "b_reverse = b[::-1]\n",
    "c_reverse = c[::-1]\n",
    "x = val_b[a:-a]\n",
    "print(x)\n",
    "print(b_reverse+x+c_reverse)"
   ]
  },
  {
   "cell_type": "code",
   "execution_count": null,
   "metadata": {},
   "outputs": [],
   "source": []
  }
 ],
 "metadata": {
  "kernelspec": {
   "display_name": "Python 3",
   "language": "python",
   "name": "python3"
  },
  "language_info": {
   "codemirror_mode": {
    "name": "ipython",
    "version": 3
   },
   "file_extension": ".py",
   "mimetype": "text/x-python",
   "name": "python",
   "nbconvert_exporter": "python",
   "pygments_lexer": "ipython3",
   "version": "3.8.5"
  }
 },
 "nbformat": 4,
 "nbformat_minor": 4
}
