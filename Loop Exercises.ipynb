{
 "cells": [
  {
   "cell_type": "code",
   "execution_count": 10,
   "metadata": {},
   "outputs": [
    {
     "name": "stdout",
     "output_type": "stream",
     "text": [
      "Enter the number of elements in a dynamic list: 10\n",
      "Enter the element 0:0\n",
      "Enter the element 1:6\n",
      "Enter the element 2:5\n",
      "Enter the element 3:-3\n",
      "Enter the element 4:4\n",
      "Enter the element 5:5\n",
      "Enter the element 6:3\n",
      "Enter the element 7:-3\n",
      "Enter the element 8:4\n",
      "Enter the element 9:0\n",
      "[0, 6, 5, -3, 4, 5, 3, -3, 4, 0]\n",
      "No. of zeros in the list is  2\n",
      "No. of positive values in the list is 6 and the positive list is [6, 5, 4, 5, 3, 4]\n",
      "No. of negative values in the list is 2 and the negative list is [-3, -3]\n",
      "No. of even numbers in the list is 3 and the even list is [6, 4, 4]\n",
      "No. of odd numbers in the list is 3 and the odd list is [5, 5, 3]\n"
     ]
    }
   ],
   "source": [
    "#program1:\n",
    "    \n",
    "#Get one dynamic list from user\n",
    "\n",
    "#10 [0,6,5,-3,4,5,3,-2,4,0]\n",
    "\n",
    "#count ==> no of zeros, no of positive values, no of negative values, no of odd numbers, number of even numbers\n",
    "#print the elements\n",
    "\n",
    "n = int(input(\"Enter the number of elements in a dynamic list: \"))\n",
    "Li = []\n",
    "\n",
    "for i in range(n):\n",
    "    val = int(input(\"Enter the element {}:\".format(i)))\n",
    "    Li.append(val)\n",
    "print(Li)\n",
    "\n",
    "zero = 0\n",
    "pos = 0\n",
    "pos_list = []\n",
    "neg =0\n",
    "neg_list = []\n",
    "odd = 0\n",
    "odd_list = []\n",
    "even = 0\n",
    "even_list = []\n",
    "for i in Li:\n",
    "    if i==0:\n",
    "        zero += 1\n",
    "    elif i>0:\n",
    "        pos += 1\n",
    "        pos_list.append(i)\n",
    "    elif i<0:\n",
    "        neg += 1\n",
    "        neg_list.append(i)\n",
    "    if (i>0) and (i%2 == 0):   ## Need to understand why only if works & not elif\n",
    "        even += 1\n",
    "        even_list.append(i)\n",
    "    elif (i>0) and (i%2 != 0):\n",
    "        odd += 1\n",
    "        odd_list.append(i)\n",
    "print(\"No. of zeros in the list is \",zero)\n",
    "print(\"No. of positive values in the list is {} and the positive list is {}\".format(pos,pos_list))\n",
    "print(\"No. of negative values in the list is {} and the negative list is {}\".format(neg,neg_list))\n",
    "print(\"No. of even numbers in the list is {} and the even list is {}\".format(even,even_list))\n",
    "print(\"No. of odd numbers in the list is {} and the odd list is {}\".format(odd,odd_list))\n",
    "\n"
   ]
  },
  {
   "cell_type": "code",
   "execution_count": 9,
   "metadata": {},
   "outputs": [
    {
     "name": "stdout",
     "output_type": "stream",
     "text": [
      "[10, 15, 20, 25, 30, 35, 40, 45, 50, 55, 60, 65, 70, 75]\n",
      "[96, 88, 80, 72]\n",
      "[10, 15, 20, 25, 30, 35, 40, 45, 50, 55, 60, 65, 70, 75]\n",
      "[96, 88, 80, 72]\n"
     ]
    }
   ],
   "source": [
    "#program2:\n",
    "\n",
    "#Using while loop print multiples of 5 from 10 to 75\n",
    "#Using while loop print multiples of 8 from 100 to 72\n",
    "\n",
    "#Using for loop print multiples of 5 from 10 to 75\n",
    "#Using for loop print multiples of 8 from 100 to 72\n",
    "\n",
    "n = 10\n",
    "a = []\n",
    "while n<=75:\n",
    "    if n%5 == 0:\n",
    "        a.append(n)\n",
    "    n += 1\n",
    "print(a)\n",
    "\n",
    "m = 100\n",
    "b = []\n",
    "while m>=72:\n",
    "    if m%8 == 0:\n",
    "        b.append(m)\n",
    "    m -= 1\n",
    "print(b)\n",
    "\n",
    "c = []\n",
    "for i in range(10,76):\n",
    "    if i%5 == 0:\n",
    "        c.append(i)\n",
    "print(c)\n",
    "\n",
    "d = []\n",
    "for i in range(100,71,-1):\n",
    "    if i%8 == 0:\n",
    "        d.append(i)\n",
    "print(d)"
   ]
  },
  {
   "cell_type": "code",
   "execution_count": 20,
   "metadata": {},
   "outputs": [
    {
     "name": "stdout",
     "output_type": "stream",
     "text": [
      "Enter first number: 2\n",
      "Enter second number: 25\n",
      "2 - No fizz and buzz\n",
      "3 is a multiple of 3 - fizz\n",
      "4 - No fizz and buzz\n",
      "5 is a multiple of 5 - buzz\n",
      "6 is a multiple of 3 - fizz\n",
      "7 - No fizz and buzz\n",
      "8 - No fizz and buzz\n",
      "9 is a multiple of 3 - fizz\n",
      "10 is a multiple of 5 - buzz\n",
      "11 - No fizz and buzz\n",
      "12 is a multiple of 3 - fizz\n",
      "13 - No fizz and buzz\n",
      "14 - No fizz and buzz\n",
      "15 is a multiple of 15 - fizzbuzz\n",
      "16 - No fizz and buzz\n",
      "17 - No fizz and buzz\n",
      "18 is a multiple of 3 - fizz\n",
      "19 - No fizz and buzz\n",
      "20 is a multiple of 5 - buzz\n",
      "21 is a multiple of 3 - fizz\n",
      "22 - No fizz and buzz\n",
      "23 - No fizz and buzz\n",
      "24 is a multiple of 3 - fizz\n",
      "25 is a multiple of 5 - buzz\n"
     ]
    }
   ],
   "source": [
    "#program3:\n",
    "\n",
    "#two numbers from user 2 25\n",
    "#2 \n",
    "#3  fizz\n",
    "#4\n",
    "#15\n",
    "#16\n",
    "#25\n",
    "\n",
    "#multiple of 3 ==> fizz\n",
    "#multiple of 5 ==> buzz\n",
    "#multiple of 15 ==> fizzbuzz\n",
    "#Others ===> No fizz and buzz\n",
    "\n",
    "#Including last number\n",
    "a = int(input(\"Enter first number: \"))\n",
    "b = int(input(\"Enter second number: \"))\n",
    "while (a<=b):\n",
    "    if a%15 == 0:\n",
    "        print(\"{} is a multiple of 15 - fizzbuzz\".format(a))\n",
    "    elif a%3 == 0:\n",
    "        print(\"{} is a multiple of 3 - fizz\".format(a))\n",
    "    elif a%5 == 0:\n",
    "        print(\"{} is a multiple of 5 - buzz\".format(a))\n",
    "    else:\n",
    "        print(\"{} - No fizz and buzz\".format(a))\n",
    "    a += 1"
   ]
  },
  {
   "cell_type": "code",
   "execution_count": 19,
   "metadata": {},
   "outputs": [
    {
     "name": "stdout",
     "output_type": "stream",
     "text": [
      "Enter the number: 1728\n",
      "1728 is not a prime number\n"
     ]
    }
   ],
   "source": [
    "#program 4\n",
    "\n",
    "#check whether it's prime or no\n",
    "\n",
    "#10\n",
    "\n",
    "#2 up to 10 ===> 2,3,4,5,6,7,8,9\n",
    "\n",
    "#3 % 2\n",
    "\n",
    "#4 \n",
    "#2,3\n",
    "\n",
    "#for else stmt\n",
    "num = int(input(\"Enter the number: \"))\n",
    "\n",
    "if num > 1:\n",
    "    for i in range(2,num):\n",
    "        if num%i == 0:\n",
    "            print(\"{} is not a prime number\".format(num))\n",
    "            break\n",
    "    else:\n",
    "            print(\"{} is a prime number\".format(num))\n",
    "\n"
   ]
  },
  {
   "cell_type": "code",
   "execution_count": null,
   "metadata": {},
   "outputs": [],
   "source": []
  }
 ],
 "metadata": {
  "kernelspec": {
   "display_name": "Python 3",
   "language": "python",
   "name": "python3"
  },
  "language_info": {
   "codemirror_mode": {
    "name": "ipython",
    "version": 3
   },
   "file_extension": ".py",
   "mimetype": "text/x-python",
   "name": "python",
   "nbconvert_exporter": "python",
   "pygments_lexer": "ipython3",
   "version": "3.8.3"
  }
 },
 "nbformat": 4,
 "nbformat_minor": 4
}
